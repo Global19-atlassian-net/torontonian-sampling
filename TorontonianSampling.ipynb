{
 "cells": [
  {
   "cell_type": "markdown",
   "metadata": {},
   "source": [
    "# Torontonian sampling example"
   ]
  },
  {
   "cell_type": "markdown",
   "metadata": {},
   "source": [
    "*Author: Brajesh Gupt*"
   ]
  },
  {
   "cell_type": "markdown",
   "metadata": {},
   "source": [
    "This Jupyter notebook uses the Torontonian Fortran library via Python to generate samples from Torontonians."
   ]
  },
  {
   "cell_type": "markdown",
   "metadata": {},
   "source": [
    "## Using the Fortran library"
   ]
  },
  {
   "cell_type": "markdown",
   "metadata": {},
   "source": [
    "The Torontonian sampling Fortran library can be used either via Fortran, or via the Python interface.\n",
    "\n",
    "### Interfacing via Fortran\n",
    "\n",
    "If using the library via Fortran, no external dependencies are required. Simply run\n",
    "```bash\n",
    "make fortran\n",
    "```\n",
    "in the top level directory. The Fortran modules will be compiled, and the modules stored in the directory `include`. To use the module with your own Fortran, simply include the `use torontonian_samples` at the top of the program, and compile the commands\n",
    "```bash\n",
    "gfortran -o program program.f90  /path/to/include/*.o -I/path/to/include/\n",
    "```\n",
    "\n",
    "See the file `examples/fortran_example.f90` for an example program that uses the Torontonian sampling library.\n",
    "\n",
    "### Interfacing via Python\n",
    "\n",
    "To compile the library for use with Python, `NumPy` is required to be installed. This can be installed via `pip`L\n",
    "```bash\n",
    "pip install numpy\n",
    "```\n",
    "Then, simply run\n",
    "```bash\n",
    "make python\n",
    "```\n",
    "in the top level directory to compile the Python library. The library `torontonian_samples.cpython-*-.so` will be created, which can then be imported in Python via `import torontonian_samples`."
   ]
  },
  {
   "cell_type": "markdown",
   "metadata": {},
   "source": [
    "## Example usage"
   ]
  },
  {
   "cell_type": "markdown",
   "metadata": {},
   "source": [
    "Import the library:"
   ]
  },
  {
   "cell_type": "code",
   "execution_count": 4,
   "metadata": {},
   "outputs": [],
   "source": [
    "import torontonian_samples as tor"
   ]
  },
  {
   "cell_type": "markdown",
   "metadata": {},
   "source": [
    "Import NumPy and random:"
   ]
  },
  {
   "cell_type": "code",
   "execution_count": 5,
   "metadata": {},
   "outputs": [],
   "source": [
    "import numpy as np\n",
    "import random"
   ]
  },
  {
   "cell_type": "markdown",
   "metadata": {},
   "source": [
    "Import the Strawberry Fields package, to enable us to simulate a Guassian Boson Sampling system. This involves initialising a 10-mode system, squeezing each mode by the same magnitude $s$, and then applying a random interferometer."
   ]
  },
  {
   "cell_type": "code",
   "execution_count": 44,
   "metadata": {},
   "outputs": [],
   "source": [
    "import strawberryfields as sf\n",
    "from strawberryfields.ops import *\n",
    "from strawberryfields.utils import random_interferometer\n",
    "from strawberryfields.backends.shared_ops import changebasis"
   ]
  },
  {
   "cell_type": "code",
   "execution_count": 45,
   "metadata": {},
   "outputs": [],
   "source": [
    "l = 10\n",
    "s = np.arcsinh(1.0)\n",
    "U = random_interferometer(l)\n",
    "    \n",
    "eng, q = sf.Engine(10)\n",
    "with eng:\n",
    "    for i in range(l):\n",
    "        Sgate(s) | q[i]\n",
    "    Interferometer(U) | q\n",
    "    \n",
    "state = eng.run('gaussian')"
   ]
  },
  {
   "cell_type": "markdown",
   "metadata": {},
   "source": [
    "The resulting vector of means (in this case, the displacement is 0):"
   ]
  },
  {
   "cell_type": "code",
   "execution_count": 49,
   "metadata": {},
   "outputs": [
    {
     "data": {
      "text/plain": [
       "array([ 0.,  0.,  0.,  0.,  0.,  0.,  0.,  0.,  0.,  0.,  0.,  0.,  0.,\n",
       "        0.,  0.,  0.,  0.,  0.,  0.,  0.])"
      ]
     },
     "execution_count": 49,
     "metadata": {},
     "output_type": "execute_result"
    }
   ],
   "source": [
    "C = changebasis(10)\n",
    "r = C @ state.means()\n",
    "r"
   ]
  },
  {
   "cell_type": "markdown",
   "metadata": {},
   "source": [
    "The resulting covariance matrix:"
   ]
  },
  {
   "cell_type": "code",
   "execution_count": 50,
   "metadata": {},
   "outputs": [],
   "source": [
    "cov = C @ state.cov() @ C.T"
   ]
  },
  {
   "cell_type": "markdown",
   "metadata": {},
   "source": [
    "Note that we perform a change of basis operation, as the Torontonian sampling library expects the covariance in the form $(x_1, p_1, x_2, p_2, \\dots)$."
   ]
  },
  {
   "cell_type": "markdown",
   "metadata": {},
   "source": [
    "Now we call `torontonian_samples.generatesample`, a Fortran subroutine, as follows to generate a sample: "
   ]
  },
  {
   "cell_type": "code",
   "execution_count": 51,
   "metadata": {},
   "outputs": [
    {
     "data": {
      "text/plain": [
       "array([1, 1, 1, 1, 0, 1, 1, 1, 1, 1], dtype=int64)"
      ]
     },
     "execution_count": 51,
     "metadata": {},
     "output_type": "execute_result"
    }
   ],
   "source": [
    "tor.torontonian_samples.generatesample(covmat=tormat,mean=r,seed=random.randint(0,10**6),n_sample=l)"
   ]
  },
  {
   "cell_type": "markdown",
   "metadata": {},
   "source": [
    "Now the above function can be called multiple times in a loop to generate as many samples as your heart desires."
   ]
  },
  {
   "cell_type": "code",
   "execution_count": 53,
   "metadata": {},
   "outputs": [],
   "source": [
    "samples=[]\n",
    "for i in range(20):\n",
    "    tmp = list(tor.torontonian_samples.generatesample(covmat=tormat,mean=r,seed=random.randint(0,10**6),n_sample=l))\n",
    "    samples.append(tmp)"
   ]
  },
  {
   "cell_type": "code",
   "execution_count": 54,
   "metadata": {},
   "outputs": [
    {
     "data": {
      "text/plain": [
       "[[0, 1, 0, 1, 0, 1, 0, 0, 1, 1],\n",
       " [1, 0, 0, 0, 0, 0, 0, 1, 1, 1],\n",
       " [0, 0, 0, 0, 1, 0, 0, 1, 1, 1],\n",
       " [0, 1, 0, 0, 0, 0, 0, 0, 0, 0],\n",
       " [1, 1, 0, 1, 1, 1, 1, 0, 0, 0],\n",
       " [0, 1, 1, 0, 1, 1, 1, 1, 1, 1],\n",
       " [1, 0, 1, 1, 1, 1, 1, 0, 1, 1],\n",
       " [1, 0, 1, 0, 1, 1, 1, 1, 0, 1],\n",
       " [0, 0, 0, 1, 0, 0, 0, 0, 1, 1],\n",
       " [1, 1, 1, 1, 0, 1, 1, 0, 0, 0],\n",
       " [0, 0, 0, 0, 1, 1, 0, 1, 1, 1],\n",
       " [1, 1, 0, 0, 0, 0, 1, 1, 1, 0],\n",
       " [0, 1, 0, 1, 1, 0, 1, 0, 0, 0],\n",
       " [0, 1, 0, 1, 1, 0, 1, 1, 0, 0],\n",
       " [1, 1, 0, 0, 1, 1, 1, 1, 0, 1],\n",
       " [1, 0, 1, 0, 1, 0, 0, 1, 1, 0],\n",
       " [1, 1, 0, 0, 1, 1, 1, 1, 1, 0],\n",
       " [1, 0, 1, 0, 1, 0, 0, 1, 0, 1],\n",
       " [1, 0, 1, 1, 1, 0, 1, 1, 1, 1],\n",
       " [0, 0, 1, 0, 1, 1, 1, 1, 0, 0]]"
      ]
     },
     "execution_count": 54,
     "metadata": {},
     "output_type": "execute_result"
    }
   ],
   "source": [
    "samples"
   ]
  }
 ],
 "metadata": {
  "kernelspec": {
   "display_name": "Python 3",
   "language": "python",
   "name": "python3"
  },
  "language_info": {
   "codemirror_mode": {
    "name": "ipython",
    "version": 3
   },
   "file_extension": ".py",
   "mimetype": "text/x-python",
   "name": "python",
   "nbconvert_exporter": "python",
   "pygments_lexer": "ipython3",
   "version": "3.5.2"
  }
 },
 "nbformat": 4,
 "nbformat_minor": 2
}
