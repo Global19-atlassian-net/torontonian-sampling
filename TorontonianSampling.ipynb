{
 "cells": [
  {
   "cell_type": "markdown",
   "metadata": {},
   "source": [
    "# TorontonianLib"
   ]
  },
  {
   "cell_type": "markdown",
   "metadata": {},
   "source": [
    "A Fortran library wrapped into Python to generate samples from Torontonians"
   ]
  },
  {
   "cell_type": "markdown",
   "metadata": {},
   "source": [
    "### Using the library"
   ]
  },
  {
   "cell_type": "markdown",
   "metadata": {},
   "source": [
    "This libary requires f2py to be installed. \n",
    "\n",
    "To compile simply run \"make library\" from terminal, or run the following cell"
   ]
  },
  {
   "cell_type": "code",
   "execution_count": 1,
   "metadata": {},
   "outputs": [],
   "source": [
    "%%capture\n",
    "!make library;"
   ]
  },
  {
   "cell_type": "markdown",
   "metadata": {},
   "source": [
    "After compilation import the TorontonianSamples library "
   ]
  },
  {
   "cell_type": "code",
   "execution_count": 1,
   "metadata": {},
   "outputs": [],
   "source": [
    "import torontonian_samples as tor"
   ]
  },
  {
   "cell_type": "markdown",
   "metadata": {},
   "source": [
    "Import numpy and random"
   ]
  },
  {
   "cell_type": "code",
   "execution_count": 2,
   "metadata": {},
   "outputs": [
    {
     "data": {
      "text/html": [
       "<style>#notebook { padding-top:0px !important; } .container { width:100% !important; } .end_space { min-height:0px !important; } </style>"
      ],
      "text/plain": [
       "<IPython.core.display.HTML object>"
      ]
     },
     "metadata": {},
     "output_type": "display_data"
    }
   ],
   "source": [
    "import numpy as np\n",
    "import random\n",
    "import matplotlib.pyplot as plt\n",
    "%matplotlib inline\n",
    "%config InlineBackend.figure_formats=['svg']\n",
    "from IPython.core.display import display, HTML\n",
    "display(HTML(\"<style>\"\n",
    "    + \"#notebook { padding-top:0px !important; } \"\n",
    "    + \".container { width:100% !important; } \"\n",
    "    + \".end_space { min-height:0px !important; } \"\n",
    "    + \"</style>\"))\n",
    "np.set_printoptions(linewidth=200)"
   ]
  },
  {
   "cell_type": "markdown",
   "metadata": {},
   "source": [
    "Import the Gaussian backend of the strawberryfields package"
   ]
  },
  {
   "cell_type": "code",
   "execution_count": 3,
   "metadata": {},
   "outputs": [],
   "source": [
    "import strawberryfields.backends.gaussianbackend.gaussiancircuit as gc"
   ]
  },
  {
   "cell_type": "markdown",
   "metadata": {},
   "source": [
    "Create a 2-mode Gaussian state "
   ]
  },
  {
   "cell_type": "code",
   "execution_count": 4,
   "metadata": {},
   "outputs": [],
   "source": [
    "state = gc.GaussianModes(2,hbar=2)\n",
    "s=np.arcsinh(0.5)\n",
    "state.squeeze(s,0,0)\n",
    "state.squeeze(-s,0,1)\n",
    "state.beamsplitter(np.pi/4,0,0,1)"
   ]
  },
  {
   "cell_type": "markdown",
   "metadata": {},
   "source": [
    "\n",
    "The following function generates random Haar unitaries of dimensions $n$"
   ]
  },
  {
   "cell_type": "code",
   "execution_count": 5,
   "metadata": {},
   "outputs": [],
   "source": [
    "from scipy import diagonal, randn\n",
    "from scipy.linalg import qr\n",
    "def haar_measure(n):\n",
    "    '''A Random matrix distributed with Haar measure\n",
    "    See https://arxiv.org/abs/math-ph/0609050\n",
    "    How to generate random matrices from the classical compact groups\n",
    "    by Francesco Mezzadri '''\n",
    "    z = (randn(n,n) + 1j*randn(n,n))/np.sqrt(2.0)\n",
    "    q,r = qr(z)\n",
    "    d = diagonal(r)\n",
    "    ph = d/np.abs(d)\n",
    "    q = np.multiply(q,ph,q)\n",
    "    return q"
   ]
  },
  {
   "cell_type": "markdown",
   "metadata": {},
   "source": [
    "Using the Gaussian state and the random unitary defined above, create an $l$ mode Gaussian state with covriance matrix \"tormat\""
   ]
  },
  {
   "cell_type": "code",
   "execution_count": 6,
   "metadata": {},
   "outputs": [],
   "source": [
    "l =10\n",
    "U = haar_measure(l)\n",
    "state = gc.GaussianModes(l,hbar=2)\n",
    "s = np.arcsinh(1.0)\n",
    "for i in range(l):\n",
    "    state.squeeze(s,0,i)\n",
    "state.apply_u(U)\n",
    "gbsmat = state.Amat()\n",
    "tormat = state.scovmat()"
   ]
  },
  {
   "cell_type": "markdown",
   "metadata": {},
   "source": [
    "Define the mean vector of the Gaussian state. Usually mean is taken to be zero. "
   ]
  },
  {
   "cell_type": "code",
   "execution_count": 7,
   "metadata": {},
   "outputs": [],
   "source": [
    "r = np.zeros(tormat.shape[0])"
   ]
  },
  {
   "cell_type": "markdown",
   "metadata": {},
   "source": [
    "Call the torontoniansample, a fortran subroutine as follows to generate a sample: \n",
    "\n"
   ]
  },
  {
   "cell_type": "code",
   "execution_count": 8,
   "metadata": {},
   "outputs": [
    {
     "data": {
      "text/plain": [
       "38173"
      ]
     },
     "execution_count": 8,
     "metadata": {},
     "output_type": "execute_result"
    }
   ],
   "source": [
    "random.randint(0,10**6)"
   ]
  },
  {
   "cell_type": "code",
   "execution_count": 9,
   "metadata": {},
   "outputs": [
    {
     "data": {
      "text/plain": [
       "array([0, 0, 0, 0, 0, 0, 1, 1, 1, 1], dtype=int64)"
      ]
     },
     "execution_count": 9,
     "metadata": {},
     "output_type": "execute_result"
    }
   ],
   "source": [
    "tor.torontoniansamples.generatesample(covmat=tormat,mean=r,seed=random.randint(0,10**6),n_sample=l)"
   ]
  },
  {
   "cell_type": "markdown",
   "metadata": {},
   "source": [
    "Now the above function can be called multiple times in a loop to generate as many samples as your heart desires."
   ]
  },
  {
   "cell_type": "code",
   "execution_count": 12,
   "metadata": {},
   "outputs": [],
   "source": [
    "samples=[]\n",
    "for i in range(20):\n",
    "    tmp = list(tor.torontoniansamples.generatesample(covmat=tormat,mean=r,seed=random.randint(0,10**6),n_sample=l))\n",
    "    samples.append(tmp)"
   ]
  },
  {
   "cell_type": "code",
   "execution_count": 13,
   "metadata": {},
   "outputs": [
    {
     "data": {
      "text/plain": [
       "[[1, 1, 0, 0, 1, 1, 1, 1, 0, 1],\n",
       " [1, 0, 1, 0, 1, 0, 0, 1, 1, 0],\n",
       " [1, 1, 0, 0, 1, 1, 1, 1, 1, 0],\n",
       " [1, 1, 1, 0, 1, 0, 0, 1, 0, 1],\n",
       " [1, 0, 1, 1, 1, 0, 1, 1, 1, 1],\n",
       " [0, 0, 1, 0, 1, 1, 1, 1, 0, 0],\n",
       " [0, 1, 1, 0, 0, 0, 1, 1, 0, 1],\n",
       " [0, 1, 1, 0, 0, 0, 0, 0, 0, 0],\n",
       " [1, 1, 1, 0, 1, 1, 0, 0, 0, 0],\n",
       " [0, 0, 0, 1, 0, 0, 1, 0, 0, 0],\n",
       " [1, 0, 0, 0, 0, 1, 1, 0, 0, 1],\n",
       " [0, 1, 0, 0, 0, 0, 1, 1, 0, 0],\n",
       " [1, 1, 0, 0, 0, 0, 0, 0, 0, 1],\n",
       " [1, 1, 0, 0, 1, 1, 1, 0, 0, 1],\n",
       " [0, 0, 0, 0, 0, 0, 0, 1, 1, 0],\n",
       " [0, 0, 0, 0, 0, 0, 0, 0, 0, 0],\n",
       " [0, 0, 0, 1, 0, 1, 0, 0, 1, 1],\n",
       " [0, 1, 1, 0, 0, 0, 0, 1, 0, 0],\n",
       " [0, 1, 1, 0, 1, 1, 0, 1, 0, 0],\n",
       " [0, 1, 0, 0, 1, 0, 0, 0, 1, 1]]"
      ]
     },
     "execution_count": 13,
     "metadata": {},
     "output_type": "execute_result"
    }
   ],
   "source": [
    "samples"
   ]
  },
  {
   "cell_type": "markdown",
   "metadata": {},
   "source": [
    "Save the samples in a file"
   ]
  },
  {
   "cell_type": "code",
   "execution_count": 11,
   "metadata": {},
   "outputs": [],
   "source": [
    "np.savetxt(\"sample.dat\",samples, fmt='%i')"
   ]
  }
 ],
 "metadata": {
  "kernelspec": {
   "display_name": "Python 3",
   "language": "python",
   "name": "python3"
  },
  "language_info": {
   "codemirror_mode": {
    "name": "ipython",
    "version": 3
   },
   "file_extension": ".py",
   "mimetype": "text/x-python",
   "name": "python",
   "nbconvert_exporter": "python",
   "pygments_lexer": "ipython3",
   "version": "3.5.2"
  }
 },
 "nbformat": 4,
 "nbformat_minor": 2
}
