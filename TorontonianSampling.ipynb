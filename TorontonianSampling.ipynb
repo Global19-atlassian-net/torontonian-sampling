{
 "cells": [
  {
   "cell_type": "markdown",
   "metadata": {},
   "source": [
    "# Torontonian sampling example"
   ]
  },
  {
   "cell_type": "markdown",
   "metadata": {},
   "source": [
    "*Author: Brajesh Gupt*"
   ]
  },
  {
   "cell_type": "markdown",
   "metadata": {},
   "source": [
    "This Jupyter notebook uses the Torontonian Fortran library via Python to generate samples from Torontonians."
   ]
  },
  {
   "cell_type": "markdown",
   "metadata": {},
   "source": [
    "## Using the Fortran library"
   ]
  },
  {
   "cell_type": "markdown",
   "metadata": {},
   "source": [
    "The Torontonian sampling Fortran library can be used either via Fortran, or via the Python interface.\n",
    "\n",
    "### Interfacing via Fortran\n",
    "\n",
    "If using the library via Fortran, no external dependencies are required. Simply run\n",
    "```bash\n",
    "make fortran\n",
    "```\n",
    "in the top level directory. The Fortran modules will be compiled, and the modules stored in the directory `include`. To use the module with your own Fortran, simply include the `use torontonian_samples` at the top of the program, and compile the commands\n",
    "```bash\n",
    "gfortran -o program program.f90  /path/to/include/*.o -I/path/to/include/\n",
    "```\n",
    "\n",
    "See the file `examples/fortran_example.f90` for an example program that uses the Torontonian sampling library.\n",
    "\n",
    "### Interfacing via Python\n",
    "\n",
    "To compile the library for use with Python, `NumPy` is required to be installed. This can be installed via `pip`L\n",
    "```bash\n",
    "pip install numpy\n",
    "```\n",
    "Then, simply run\n",
    "```bash\n",
    "make python\n",
    "```\n",
    "in the top level directory to compile the Python library. The library `torontonian_samples.cpython-*-.so` will be created, which can then be imported in Python via `import torontonian_samples`."
   ]
  },
  {
   "cell_type": "markdown",
   "metadata": {},
   "source": [
    "## Example usage"
   ]
  },
  {
   "cell_type": "markdown",
   "metadata": {},
   "source": [
    "Import the library:"
   ]
  },
  {
   "cell_type": "code",
   "execution_count": 1,
   "metadata": {},
   "outputs": [],
   "source": [
    "import torontonian_samples as tor"
   ]
  },
  {
   "cell_type": "markdown",
   "metadata": {},
   "source": [
    "Import NumPy and random:"
   ]
  },
  {
   "cell_type": "code",
   "execution_count": 2,
   "metadata": {},
   "outputs": [],
   "source": [
    "import numpy as np\n",
    "import random"
   ]
  },
  {
   "cell_type": "markdown",
   "metadata": {},
   "source": [
    "Import the Strawberry Fields package, to enable us to simulate a Guassian Boson Sampling system. This involves initialising a 10-mode system, squeezing each mode by the same magnitude $s$, and then applying a random interferometer."
   ]
  },
  {
   "cell_type": "code",
   "execution_count": 3,
   "metadata": {},
   "outputs": [
    {
     "name": "stderr",
     "output_type": "stream",
     "text": [
      "/home/nicolas/anaconda2/envs/covarianceproject/lib/python3.5/site-packages/h5py/__init__.py:36: FutureWarning: Conversion of the second argument of issubdtype from `float` to `np.floating` is deprecated. In future, it will be treated as `np.float64 == np.dtype(float).type`.\n",
      "  from ._conv import register_converters as _register_converters\n"
     ]
    }
   ],
   "source": [
    "import strawberryfields as sf\n",
    "from strawberryfields.ops import *\n",
    "from strawberryfields.utils import random_interferometer\n",
    "from strawberryfields.backends.shared_ops import changebasis"
   ]
  },
  {
   "cell_type": "code",
   "execution_count": 4,
   "metadata": {},
   "outputs": [],
   "source": [
    "l = 10\n",
    "s = np.arcsinh(1.0)\n",
    "U = random_interferometer(l)\n",
    "    \n",
    "eng, q = sf.Engine(10)\n",
    "with eng:\n",
    "    for i in range(l):\n",
    "        Sgate(s) | q[i]\n",
    "    Interferometer(U) | q\n",
    "    \n",
    "state = eng.run('gaussian')"
   ]
  },
  {
   "cell_type": "markdown",
   "metadata": {},
   "source": [
    "The resulting vector of means (in this case, the displacement is 0):"
   ]
  },
  {
   "cell_type": "code",
   "execution_count": 5,
   "metadata": {},
   "outputs": [
    {
     "data": {
      "text/plain": [
       "array([0., 0., 0., 0., 0., 0., 0., 0., 0., 0., 0., 0., 0., 0., 0., 0., 0.,\n",
       "       0., 0., 0.])"
      ]
     },
     "execution_count": 5,
     "metadata": {},
     "output_type": "execute_result"
    }
   ],
   "source": [
    "C = changebasis(10)\n",
    "r = C @ state.means()\n",
    "r"
   ]
  },
  {
   "cell_type": "markdown",
   "metadata": {},
   "source": [
    "The resulting covariance matrix:"
   ]
  },
  {
   "cell_type": "code",
   "execution_count": 6,
   "metadata": {},
   "outputs": [],
   "source": [
    "cov = C @ state.cov() @ C.T\n",
    "tormat = cov"
   ]
  },
  {
   "cell_type": "markdown",
   "metadata": {},
   "source": [
    "Note that we perform a change of basis operation, as the Torontonian sampling library expects the covariance in the form $(x_1, p_1, x_2, p_2, \\dots)$."
   ]
  },
  {
   "cell_type": "markdown",
   "metadata": {},
   "source": [
    "Now we call `torontonian_samples.generatesample`, a Fortran subroutine, as follows to generate a sample: "
   ]
  },
  {
   "cell_type": "code",
   "execution_count": 7,
   "metadata": {},
   "outputs": [
    {
     "data": {
      "text/plain": [
       "array([0, 0, 0, 0, 0, 0, 1, 1, 1, 1], dtype=int64)"
      ]
     },
     "execution_count": 7,
     "metadata": {},
     "output_type": "execute_result"
    }
   ],
   "source": [
    "tor.torontonian_samples.generatesample(covmat=tormat,mean=r,seed=random.randint(0,10**6),n_sample=l)"
   ]
  },
  {
   "cell_type": "markdown",
   "metadata": {},
   "source": [
    "Now the above function can be called multiple times in a loop to generate as many samples as your heart desires."
   ]
  },
  {
   "cell_type": "code",
   "execution_count": 8,
   "metadata": {},
   "outputs": [],
   "source": [
    "samples=[]\n",
    "for i in range(20):\n",
    "    tmp = list(tor.torontonian_samples.generatesample(covmat=tormat,mean=r,seed=random.randint(0,10**6),n_sample=l))\n",
    "    samples.append(tmp)"
   ]
  },
  {
   "cell_type": "code",
   "execution_count": 9,
   "metadata": {},
   "outputs": [
    {
     "data": {
      "text/plain": [
       "[[1, 1, 1, 0, 1, 0, 0, 1, 0, 0],\n",
       " [1, 0, 0, 0, 1, 1, 1, 0, 0, 1],\n",
       " [1, 0, 1, 1, 1, 0, 1, 1, 1, 1],\n",
       " [1, 0, 1, 0, 1, 1, 1, 1, 1, 1],\n",
       " [0, 1, 1, 1, 1, 1, 1, 0, 0, 1],\n",
       " [1, 1, 1, 1, 0, 1, 1, 1, 1, 1],\n",
       " [0, 1, 1, 1, 0, 1, 1, 0, 1, 1],\n",
       " [1, 0, 0, 1, 0, 0, 0, 1, 1, 1],\n",
       " [0, 0, 0, 0, 1, 0, 0, 1, 1, 1],\n",
       " [0, 0, 0, 0, 0, 0, 0, 0, 0, 0],\n",
       " [1, 1, 0, 1, 1, 1, 1, 0, 0, 0],\n",
       " [1, 1, 1, 0, 0, 1, 1, 1, 1, 1],\n",
       " [1, 0, 1, 1, 1, 1, 1, 0, 1, 1],\n",
       " [1, 0, 1, 0, 1, 1, 1, 1, 0, 1],\n",
       " [0, 1, 1, 0, 0, 0, 0, 0, 0, 1],\n",
       " [0, 1, 1, 1, 0, 0, 1, 0, 0, 0],\n",
       " [0, 0, 0, 0, 1, 1, 0, 1, 1, 1],\n",
       " [1, 0, 0, 0, 0, 0, 1, 1, 1, 0],\n",
       " [0, 1, 0, 1, 1, 0, 0, 0, 0, 0],\n",
       " [0, 1, 0, 1, 1, 0, 1, 1, 0, 0]]"
      ]
     },
     "execution_count": 9,
     "metadata": {},
     "output_type": "execute_result"
    }
   ],
   "source": [
    "samples"
   ]
  },
  {
   "cell_type": "markdown",
   "metadata": {},
   "source": [
    "## Comparing frequencies with probabilities using the Torontonian function"
   ]
  },
  {
   "cell_type": "markdown",
   "metadata": {},
   "source": [
    "Create a two mode state using the gaussian backend"
   ]
  },
  {
   "cell_type": "code",
   "execution_count": 10,
   "metadata": {},
   "outputs": [],
   "source": [
    "import strawberryfields.backends.gaussianbackend.gaussiancircuit as gc"
   ]
  },
  {
   "cell_type": "code",
   "execution_count": 11,
   "metadata": {},
   "outputs": [],
   "source": [
    "from torontonian import tor as tor_func"
   ]
  },
  {
   "cell_type": "markdown",
   "metadata": {},
   "source": [
    "In the following cell we generate a two mode squeezed vacuum state, which has perfect number correlation. Because of this one will have always correlated clicks"
   ]
  },
  {
   "cell_type": "code",
   "execution_count": 26,
   "metadata": {},
   "outputs": [],
   "source": [
    "nmodes = 2 ## Set up number of modes\n",
    "X = np.block([[0*np.identity(nmodes),np.identity(nmodes)],[np.identity(nmodes),0*np.identity(nmodes)]])\n",
    "## X = [[0,I],[I,0]]\n",
    "state = gc.GaussianModes(nmodes,hbar=2) ## A Gaussian state in vacuu,\n",
    "r1 = np.arcsinh(1.0) ## Amount of squeezing\n",
    "r2 = -r1\n",
    "state.squeeze(r1,0,0)\n",
    "state.squeeze(r2,0,1)\n",
    "theta = np.pi/4\n",
    "state.beamsplitter(theta,0,0,1)"
   ]
  },
  {
   "cell_type": "markdown",
   "metadata": {},
   "source": [
    "We use this state and the torontonian function tor_func to calculate the probabilities (see https://arxiv.org/abs/1807.01639 for more detail)"
   ]
  },
  {
   "cell_type": "code",
   "execution_count": 27,
   "metadata": {},
   "outputs": [],
   "source": [
    "A = np.round(state.Amat(),14)\n",
    "Q = np.round(state.qmat(),14)\n",
    "O = X@A\n",
    "denom = 1/np.sqrt(np.linalg.det(Q))\n",
    "p11 = denom*tor_func(O)\n",
    "rows1 = np.array([0,2])\n",
    "rows2 = np.array([1,3])\n",
    "O01 = O[:,rows1][rows1]\n",
    "O10 = O[:,rows2][rows2]\n",
    "p01 = denom*tor_func(O01)\n",
    "p10 = denom*tor_func(O10)\n",
    "p00 = denom"
   ]
  },
  {
   "cell_type": "code",
   "execution_count": 57,
   "metadata": {},
   "outputs": [
    {
     "name": "stdout",
     "output_type": "stream",
     "text": [
      "Probability vector [0.5 0.  0.  0.5]\n",
      "Sum of probabilities =  1.0000000000000142\n"
     ]
    }
   ],
   "source": [
    "## Let's check the predicted probabilities add up to one\n",
    "probs = np.array([p00,p01,p10,p11]).real\n",
    "print(\"Probability vector\",probs)\n",
    "print(\"Sum of probabilities = \",sum(probs))"
   ]
  },
  {
   "cell_type": "code",
   "execution_count": 33,
   "metadata": {},
   "outputs": [],
   "source": [
    "# We now generate the x-p covariance matrix used by the Torontonian sampler\n",
    "cov = state.scovmat()\n",
    "mean =  np.zeros(4)"
   ]
  },
  {
   "cell_type": "code",
   "execution_count": 49,
   "metadata": {},
   "outputs": [],
   "source": [
    "# We now generate \n",
    "n_sample = 500\n",
    "samples=[]\n",
    "for i in range(n_sample):\n",
    "    tmp = list(tor.torontonian_samples.generatesample(covmat=cov,mean=mean,seed=random.randint(0,10**6),n_sample=nmodes))\n",
    "    samples.append(tmp)"
   ]
  },
  {
   "cell_type": "code",
   "execution_count": 50,
   "metadata": {},
   "outputs": [],
   "source": [
    "# This is a list of all the possible events\n",
    "events = [[0,0],[0,1],[1,0],[1,1]]"
   ]
  },
  {
   "cell_type": "code",
   "execution_count": 58,
   "metadata": {},
   "outputs": [
    {
     "data": {
      "text/plain": [
       "array([246,   0,   0, 254])"
      ]
     },
     "execution_count": 58,
     "metadata": {},
     "output_type": "execute_result"
    }
   ],
   "source": [
    "# Now we can count their frequencies\n",
    "freq = np.array([samples.count(event) for event in events])\n",
    "freq"
   ]
  },
  {
   "cell_type": "code",
   "execution_count": 60,
   "metadata": {},
   "outputs": [
    {
     "name": "stdout",
     "output_type": "stream",
     "text": [
      "Relative frequencies: [0.492 0.    0.    0.508]\n",
      "Probabilities: [0.5 0.  0.  0.5]\n"
     ]
    }
   ],
   "source": [
    "# The probabilities associated with the frequencies are now\n",
    "print(\"Relative frequencies:\",freq/n_sample)\n",
    "print(\"Probabilities:\",probs)"
   ]
  },
  {
   "cell_type": "code",
   "execution_count": null,
   "metadata": {},
   "outputs": [],
   "source": [
    "# which is quite close to expected probabilities from the Torontonian function"
   ]
  }
 ],
 "metadata": {
  "kernelspec": {
   "display_name": "Python 3",
   "language": "python",
   "name": "python3"
  },
  "language_info": {
   "codemirror_mode": {
    "name": "ipython",
    "version": 3
   },
   "file_extension": ".py",
   "mimetype": "text/x-python",
   "name": "python",
   "nbconvert_exporter": "python",
   "pygments_lexer": "ipython3",
   "version": "3.5.4"
  }
 },
 "nbformat": 4,
 "nbformat_minor": 2
}
